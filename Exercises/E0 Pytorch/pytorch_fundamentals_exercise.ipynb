{
  "cells": [
    {
      "cell_type": "markdown",
      "metadata": {
        "id": "AzDBM_v4iMe7"
      },
      "source": [
        "# **PyTorch Fundamentals Exercise**\n",
        "\n"
      ]
    },
    {
      "cell_type": "code",
      "execution_count": 2,
      "metadata": {
        "id": "XPUG4n_skaq1"
      },
      "outputs": [],
      "source": [
        "# Import all the necessary libraries here\n",
        "import torch"
      ]
    },
    {
      "cell_type": "markdown",
      "metadata": {
        "id": "__iXqqz-ioUJ"
      },
      "source": [
        "### **Q1 Create a random tensor with shape `(7, 7)`**\n"
      ]
    },
    {
      "cell_type": "code",
      "execution_count": 3,
      "metadata": {
        "id": "6pUq9Dc8i2L7",
        "outputId": "f69a4d69-4913-4848-e026-f939f366b096",
        "colab": {
          "base_uri": "https://localhost:8080/"
        }
      },
      "outputs": [
        {
          "output_type": "stream",
          "name": "stdout",
          "text": [
            "tensor([[0.6474, 0.2811, 0.2764, 0.8949, 0.2089, 0.7059, 0.4326],\n",
            "        [0.3950, 0.3083, 0.4742, 0.2881, 0.3516, 0.9444, 0.7799],\n",
            "        [0.6195, 0.8735, 0.5084, 0.1591, 0.1482, 0.2225, 0.4459],\n",
            "        [0.4455, 0.9433, 0.0121, 0.6736, 0.6954, 0.0260, 0.9575],\n",
            "        [0.8854, 0.5110, 0.5628, 0.4334, 0.4332, 0.7022, 0.8211],\n",
            "        [0.8364, 0.2269, 0.8777, 0.9306, 0.7656, 0.7699, 0.8988],\n",
            "        [0.5726, 0.0155, 0.1923, 0.5020, 0.5027, 0.7026, 0.1535]])\n",
            "torch.Size([7, 7])\n"
          ]
        }
      ],
      "source": [
        "tensor = torch.rand(7,7)\n",
        "print(tensor)\n",
        "print(tensor.shape)"
      ]
    },
    {
      "cell_type": "markdown",
      "metadata": {
        "id": "9-XxvRLfiqkR"
      },
      "source": [
        "### **Q2 Perform a matrix multiplication on the tensor from Q1 with another random tensor with shape `(1, 7)`**"
      ]
    },
    {
      "cell_type": "code",
      "execution_count": null,
      "metadata": {
        "id": "NcLqR0Sbi_vT"
      },
      "outputs": [],
      "source": [
        "tensor2 = torch.rand(1,7)\n",
        "tensor3 = torch.matmul(tensor, tensor2.T)\n",
        "print(tensor3)\n",
        "print(tensor3.shape)"
      ]
    },
    {
      "cell_type": "markdown",
      "metadata": {
        "id": "eiutdKUFiryU"
      },
      "source": [
        "### **Q3 Set the random seed to `0` and do Q1 & Q2 over again**"
      ]
    },
    {
      "cell_type": "code",
      "execution_count": null,
      "metadata": {
        "id": "D-lOWI_1jRMm"
      },
      "outputs": [],
      "source": [
        "# Your code here"
      ]
    },
    {
      "cell_type": "markdown",
      "metadata": {
        "id": "ezY6ks9Cis37"
      },
      "source": [
        "### **Q4 Speaking of random seeds, we saw how to set it with `torch.manual_seed()` but is there a GPU equivalent?**\n",
        "  * If there is, set the GPU random seed to `1234`"
      ]
    },
    {
      "cell_type": "code",
      "execution_count": null,
      "metadata": {
        "id": "_LKWcfSTjp00"
      },
      "outputs": [],
      "source": [
        "# Your code here"
      ]
    },
    {
      "cell_type": "markdown",
      "metadata": {
        "id": "Ir9qSaj6it4n"
      },
      "source": [
        "\n",
        "### **Q5 Create two random tensors of shape `(2, 3)` and send them both to the GPU. Set `torch.manual_seed(1234)` when creating the tensors (this doesn't have to be the GPU random seed)**"
      ]
    },
    {
      "cell_type": "code",
      "execution_count": null,
      "metadata": {
        "id": "azXExiFZj5nm"
      },
      "outputs": [],
      "source": [
        "# Your code here"
      ]
    },
    {
      "cell_type": "markdown",
      "metadata": {
        "id": "5TlAxeiSiu1y"
      },
      "source": [
        "\n",
        "### **Q6 Perform a matrix multiplication on the tensors you created in Q5**"
      ]
    },
    {
      "cell_type": "code",
      "execution_count": null,
      "metadata": {
        "id": "fAeG7ox0lHEO"
      },
      "outputs": [],
      "source": [
        "# Your code here"
      ]
    },
    {
      "cell_type": "markdown",
      "metadata": {
        "id": "G7qfa5CSivwg"
      },
      "source": [
        "### **Q7 Find the maximum and minimum values of the output of Q6**"
      ]
    },
    {
      "cell_type": "code",
      "execution_count": null,
      "metadata": {
        "id": "Fu8_3mZpllOd"
      },
      "outputs": [],
      "source": [
        "# Your code here"
      ]
    },
    {
      "cell_type": "markdown",
      "metadata": {
        "id": "wrTj5FgNiw47"
      },
      "source": [
        "### **Q8 Find the maximum and minimum index values of the output of Q6**"
      ]
    },
    {
      "cell_type": "code",
      "execution_count": null,
      "metadata": {
        "id": "CCEKt4K2lsfQ"
      },
      "outputs": [],
      "source": [
        "# Your code here"
      ]
    },
    {
      "cell_type": "markdown",
      "metadata": {
        "id": "Bx9GBibjnBt-"
      },
      "source": [
        "### **Q9 Perform a matrix multiplication on the tensors you created in Q5 in `numpy` and convert the output to tensor**"
      ]
    },
    {
      "cell_type": "code",
      "execution_count": null,
      "metadata": {
        "id": "Hi9HvztnnOMm"
      },
      "outputs": [],
      "source": [
        "# Your code here"
      ]
    },
    {
      "cell_type": "markdown",
      "metadata": {
        "id": "hmeybz4uixy7"
      },
      "source": [
        "\n",
        "### **Q10 Make a random tensor with shape `(1, 1, 1, 10)` and then convert it to a tensor of shape `(10)`. Set the seed to `7` when you create it and print out the first tensor and it's shape as well as the second tensor and it's shape**"
      ]
    },
    {
      "cell_type": "code",
      "execution_count": null,
      "metadata": {
        "id": "TQ9zbRzVl1jV"
      },
      "outputs": [],
      "source": [
        "# Your code here"
      ]
    }
  ],
  "metadata": {
    "accelerator": "GPU",
    "colab": {
      "provenance": []
    },
    "kernelspec": {
      "display_name": "Python 3",
      "name": "python3"
    },
    "language_info": {
      "name": "python"
    }
  },
  "nbformat": 4,
  "nbformat_minor": 0
}