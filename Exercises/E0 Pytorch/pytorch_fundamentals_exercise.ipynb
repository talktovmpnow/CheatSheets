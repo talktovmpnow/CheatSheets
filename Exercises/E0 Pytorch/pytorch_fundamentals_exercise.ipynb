{
  "cells": [
    {
      "cell_type": "markdown",
      "metadata": {
        "id": "view-in-github",
        "colab_type": "text"
      },
      "source": [
        "<a href=\"https://colab.research.google.com/github/talktovmpnow/CheatSheets/blob/master/Exercises/E0%20Pytorch/pytorch_fundamentals_exercise.ipynb\" target=\"_parent\"><img src=\"https://colab.research.google.com/assets/colab-badge.svg\" alt=\"Open In Colab\"/></a>"
      ]
    },
    {
      "cell_type": "markdown",
      "metadata": {
        "id": "AzDBM_v4iMe7"
      },
      "source": [
        "# **PyTorch Fundamentals Exercise**\n",
        "\n"
      ]
    },
    {
      "cell_type": "code",
      "execution_count": 2,
      "metadata": {
        "id": "XPUG4n_skaq1"
      },
      "outputs": [],
      "source": [
        "# Import all the necessary libraries here\n",
        "import torch"
      ]
    },
    {
      "cell_type": "markdown",
      "metadata": {
        "id": "__iXqqz-ioUJ"
      },
      "source": [
        "### **Q1 Create a random tensor with shape `(7, 7)`**\n"
      ]
    },
    {
      "cell_type": "code",
      "execution_count": 3,
      "metadata": {
        "id": "6pUq9Dc8i2L7",
        "colab": {
          "base_uri": "https://localhost:8080/"
        },
        "outputId": "f69a4d69-4913-4848-e026-f939f366b096"
      },
      "outputs": [
        {
          "output_type": "stream",
          "name": "stdout",
          "text": [
            "tensor([[0.6474, 0.2811, 0.2764, 0.8949, 0.2089, 0.7059, 0.4326],\n",
            "        [0.3950, 0.3083, 0.4742, 0.2881, 0.3516, 0.9444, 0.7799],\n",
            "        [0.6195, 0.8735, 0.5084, 0.1591, 0.1482, 0.2225, 0.4459],\n",
            "        [0.4455, 0.9433, 0.0121, 0.6736, 0.6954, 0.0260, 0.9575],\n",
            "        [0.8854, 0.5110, 0.5628, 0.4334, 0.4332, 0.7022, 0.8211],\n",
            "        [0.8364, 0.2269, 0.8777, 0.9306, 0.7656, 0.7699, 0.8988],\n",
            "        [0.5726, 0.0155, 0.1923, 0.5020, 0.5027, 0.7026, 0.1535]])\n",
            "torch.Size([7, 7])\n"
          ]
        }
      ],
      "source": [
        "tensor = torch.rand(7,7)\n",
        "print(tensor)\n",
        "print(tensor.shape)"
      ]
    },
    {
      "cell_type": "markdown",
      "metadata": {
        "id": "9-XxvRLfiqkR"
      },
      "source": [
        "### **Q2 Perform a matrix multiplication on the tensor from Q1 with another random tensor with shape `(1, 7)`**"
      ]
    },
    {
      "cell_type": "code",
      "execution_count": 5,
      "metadata": {
        "id": "NcLqR0Sbi_vT",
        "colab": {
          "base_uri": "https://localhost:8080/"
        },
        "outputId": "4b418dad-de8e-47fc-bb0c-eefc80a2cc42"
      },
      "outputs": [
        {
          "output_type": "stream",
          "name": "stdout",
          "text": [
            "tensor([[1.0697],\n",
            "        [1.0273],\n",
            "        [1.2832],\n",
            "        [1.5704],\n",
            "        [1.4191],\n",
            "        [1.6785],\n",
            "        [0.8006]])\n",
            "tensor([[0.2530, 0.8209, 0.4211, 0.3562, 0.5445, 0.1430, 0.0584]])\n",
            "tensor([[0.2530],\n",
            "        [0.8209],\n",
            "        [0.4211],\n",
            "        [0.3562],\n",
            "        [0.5445],\n",
            "        [0.1430],\n",
            "        [0.0584]])\n",
            "torch.Size([7, 1])\n"
          ]
        }
      ],
      "source": [
        "tensor2 = torch.rand(1,7)\n",
        "tensor_Matmul = torch.matmul(tensor, tensor2.T)\n",
        "print(tensor_Matmul)\n",
        "print(tensor2)\n",
        "print(tensor2.T)\n",
        "print(tensor_Matmul.shape)"
      ]
    },
    {
      "cell_type": "markdown",
      "metadata": {
        "id": "eiutdKUFiryU"
      },
      "source": [
        "### **Q3 Set the random seed to `0` and do Q1 & Q2 over again**"
      ]
    },
    {
      "cell_type": "code",
      "execution_count": null,
      "metadata": {
        "id": "D-lOWI_1jRMm"
      },
      "outputs": [],
      "source": [
        "import torch\n",
        "torch.manual_seed(0)\n",
        "# ### **Q1 Create a random tensor with shape `(7, 7)`**\n",
        "tensor = torch.rand(7,7)\n",
        "print(tensor)\n",
        "print(tensor.shape)\n",
        "# ### **Q2 Perform a matrix multiplication on the tensor from Q1 with another random tensor with shape `(1, 7)`**\n",
        "tensor2 = torch.rand(1,7)\n",
        "tensor_Matmul = torch.matmul(tensor, tensor2.T)\n",
        "print(tensor_Matmul)\n",
        "print(tensor2)\n",
        "print(tensor2.T)\n",
        "tensor_Matmul.shape\n"
      ]
    },
    {
      "cell_type": "markdown",
      "metadata": {
        "id": "ezY6ks9Cis37"
      },
      "source": [
        "### **Q4 Speaking of random seeds, we saw how to set it with `torch.manual_seed()` but is there a GPU equivalent?**\n",
        "  * If there is, set the GPU random seed to `1234`"
      ]
    },
    {
      "cell_type": "code",
      "execution_count": 6,
      "metadata": {
        "id": "_LKWcfSTjp00"
      },
      "outputs": [],
      "source": [
        "torch.cuda.manual_seed(1234)"
      ]
    },
    {
      "cell_type": "markdown",
      "metadata": {
        "id": "Ir9qSaj6it4n"
      },
      "source": [
        "\n",
        "### **Q5 Create two random tensors of shape `(2, 3)` and send them both to the GPU. Set `torch.manual_seed(1234)` when creating the tensors (this doesn't have to be the GPU random seed)**"
      ]
    },
    {
      "cell_type": "code",
      "execution_count": 9,
      "metadata": {
        "id": "azXExiFZj5nm",
        "colab": {
          "base_uri": "https://localhost:8080/"
        },
        "outputId": "6d162fe9-8ba8-4a3f-d1a2-abfaba5a5823"
      },
      "outputs": [
        {
          "output_type": "stream",
          "name": "stdout",
          "text": [
            "tensor([[0.0290, 0.4019, 0.2598],\n",
            "        [0.3666, 0.0583, 0.7006]], device='cuda:0')\n",
            "tensor([[0.0518, 0.4681, 0.6738],\n",
            "        [0.3315, 0.7837, 0.5631]], device='cuda:0')\n"
          ]
        }
      ],
      "source": [
        "torch.manual_seed(1234)\n",
        "tensor_1 = torch.rand(2, 3)\n",
        "tensor_2 = torch.rand(2, 3)\n",
        "\n",
        "if torch.cuda.is_available():\n",
        "  tensor_1 = tensor_1.to('cuda')\n",
        "  tensor_2 = tensor_2.to('cuda')\n",
        "  print(tensor_1)\n",
        "  print(tensor_2)\n",
        "else:\n",
        "  print(\"CUDA is not available. Tensors remain on CPU.\")\n",
        "  print(tensor_1)\n"
      ]
    },
    {
      "cell_type": "markdown",
      "metadata": {
        "id": "5TlAxeiSiu1y"
      },
      "source": [
        "\n",
        "### **Q6 Perform a matrix multiplication on the tensors you created in Q5**"
      ]
    },
    {
      "cell_type": "code",
      "execution_count": null,
      "metadata": {
        "id": "fAeG7ox0lHEO"
      },
      "outputs": [],
      "source": [
        "if torch.cuda.is_available():\n",
        "  tensor_matmul = torch.matmul(tensor_1, tensor_2.T)\n",
        "  print(tensor_matmul)\n",
        "else:\n",
        "  print(\"CUDA is not available. Matrix multiplication cannot be performed on GPU.\")"
      ]
    },
    {
      "cell_type": "markdown",
      "metadata": {
        "id": "G7qfa5CSivwg"
      },
      "source": [
        "### **Q7 Find the maximum and minimum values of the output of Q6**"
      ]
    },
    {
      "cell_type": "code",
      "execution_count": null,
      "metadata": {
        "id": "Fu8_3mZpllOd"
      },
      "outputs": [],
      "source": [
        "if torch.cuda.is_available():\n",
        "  tensor_matmul = torch.matmul(tensor_1, tensor_2.T)\n",
        "  max_val = torch.max(tensor_matmul)\n",
        "  min_val = torch.min(tensor_matmul)\n",
        "  print(f\"Maximum value: {max_val}\")\n",
        "  print(f\"Minimum value: {min_val}\")\n",
        "else:\n",
        "  print(\"CUDA is not available. Matrix multiplication cannot be performed on GPU.\")"
      ]
    },
    {
      "cell_type": "markdown",
      "metadata": {
        "id": "wrTj5FgNiw47"
      },
      "source": [
        "### **Q8 Find the maximum and minimum index values of the output of Q6**"
      ]
    },
    {
      "cell_type": "code",
      "execution_count": null,
      "metadata": {
        "id": "CCEKt4K2lsfQ"
      },
      "outputs": [],
      "source": [
        "# prompt: Find the maximum and minimum index values of the output of Q6\n",
        "\n",
        "if torch.cuda.is_available():\n",
        "  tensor_matmul = torch.matmul(tensor_1, tensor_2.T)\n",
        "  max_index = torch.argmax(tensor_matmul)\n",
        "  min_index = torch.argmin(tensor_matmul)\n",
        "  print(f\"Maximum index: {max_index}\")\n",
        "  print(f\"Minimum index: {min_index}\")\n",
        "else:\n",
        "  print(\"CUDA is not available. Matrix multiplication cannot be performed on GPU.\")"
      ]
    },
    {
      "cell_type": "markdown",
      "metadata": {
        "id": "Bx9GBibjnBt-"
      },
      "source": [
        "### **Q9 Perform a matrix multiplication on the tensors you created in Q5 in `numpy` and convert the output to tensor**"
      ]
    },
    {
      "cell_type": "code",
      "execution_count": null,
      "metadata": {
        "id": "Hi9HvztnnOMm"
      },
      "outputs": [],
      "source": [
        "# prompt: Perform a matrix multiplication on the tensors you created in Q5 in numpy and convert the output to tensor\n",
        "\n",
        "import torch\n",
        "import numpy as np\n",
        "\n",
        "# Assuming tensor_1 and tensor_2 are already defined and on the GPU (from Q5)\n",
        "if torch.cuda.is_available():\n",
        "  # Move tensors to CPU for numpy operations\n",
        "  tensor_1_cpu = tensor_1.cpu()\n",
        "  tensor_2_cpu = tensor_2.cpu()\n",
        "\n",
        "  # Convert tensors to numpy arrays\n",
        "  np_tensor_1 = tensor_1_cpu.numpy()\n",
        "  np_tensor_2 = tensor_2_cpu.numpy()\n",
        "\n",
        "  # Perform matrix multiplication in numpy\n",
        "  np_matmul_result = np.matmul(np_tensor_1, np_tensor_2.T)\n",
        "\n",
        "  # Convert the numpy array back to a PyTorch tensor\n",
        "  tensor_matmul_result = torch.from_numpy(np_matmul_result)\n",
        "\n",
        "  print(\"Numpy matrix multiplication result (converted to tensor):\\n\", tensor_matmul_result)\n",
        "else:\n",
        "  print(\"CUDA is not available. Cannot perform operations.\")"
      ]
    },
    {
      "cell_type": "markdown",
      "metadata": {
        "id": "hmeybz4uixy7"
      },
      "source": [
        "\n",
        "### **Q10 Make a random tensor with shape `(1, 1, 1, 10)` and then convert it to a tensor of shape `(10)`. Set the seed to `7` when you create it and print out the first tensor and it's shape as well as the second tensor and it's shape**"
      ]
    },
    {
      "cell_type": "code",
      "execution_count": null,
      "metadata": {
        "id": "TQ9zbRzVl1jV"
      },
      "outputs": [],
      "source": [
        "# Your code here"
      ]
    }
  ],
  "metadata": {
    "accelerator": "GPU",
    "colab": {
      "provenance": [],
      "include_colab_link": true
    },
    "kernelspec": {
      "display_name": "Python 3",
      "name": "python3"
    },
    "language_info": {
      "name": "python"
    }
  },
  "nbformat": 4,
  "nbformat_minor": 0
}